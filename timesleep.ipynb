{
 "cells": [
  {
   "cell_type": "markdown",
   "metadata": {},
   "source": [
    "# <font color = 'orange'> Time Sleep in for loop <font>"
   ]
  },
  {
   "cell_type": "code",
   "execution_count": 1,
   "metadata": {},
   "outputs": [],
   "source": [
    "import time,random"
   ]
  },
  {
   "cell_type": "code",
   "execution_count": 3,
   "metadata": {},
   "outputs": [
    {
     "name": "stdout",
     "output_type": "stream",
     "text": [
      "You are sitting infront of your laptop\n",
      "the time is about 6pm E.A.T\n",
      "You are running out of time and you have to decide NOW!!!\n",
      "open an Intergrated Development Environment and code\n"
     ]
    }
   ],
   "source": [
    "num=random.randint(1,2)\n",
    "\n",
    "sms1='You are sitting infront of your laptop'\n",
    "sms2='The time is about 6pm E.A.T'\n",
    "sms3='You are running out of time and you have to decide NOW!!!'\n",
    "\n",
    "if num==1:\n",
    "    sms4='Standup,get to refresh and even drink'\n",
    "elif num==2:\n",
    "    sms4='open an Intergrated Development Environment and code'\n",
    "\n",
    "for i in sms1:\n",
    "    print(i,end='')\n",
    "    time.sleep(.05)\n",
    "print()\n",
    "for i in sms2:\n",
    "    print(i,end='')\n",
    "    time.sleep(.05)\n",
    "print()\n",
    "for i in sms3:\n",
    "    print(i,end='')\n",
    "    time.sleep(.05)\n",
    "print()\n",
    "for i in sms4:\n",
    "    print(i,end='')\n",
    "    time.sleep(.05)\n",
    "print()"
   ]
  },
  {
   "cell_type": "code",
   "execution_count": null,
   "metadata": {},
   "outputs": [],
   "source": []
  }
 ],
 "metadata": {
  "kernelspec": {
   "display_name": "Python 3",
   "language": "python",
   "name": "python3"
  },
  "language_info": {
   "codemirror_mode": {
    "name": "ipython",
    "version": 3
   },
   "file_extension": ".py",
   "mimetype": "text/x-python",
   "name": "python",
   "nbconvert_exporter": "python",
   "pygments_lexer": "ipython3",
   "version": "3.7.4"
  }
 },
 "nbformat": 4,
 "nbformat_minor": 4
}
